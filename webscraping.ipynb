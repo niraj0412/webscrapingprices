{
 "cells": [
  {
   "cell_type": "code",
   "execution_count": 11,
   "metadata": {},
   "outputs": [],
   "source": [
    "from selenium import webdriver\n",
    "from selenium.webdriver.common.keys import Keys\n",
    "import time\n",
    "from pathlib import Path\n"
   ]
  },
  {
   "cell_type": "code",
   "execution_count": 21,
   "metadata": {},
   "outputs": [],
   "source": [
    "source1 = \"https://www.flipkart.com/apple-iphone-xs-space-grey-64-gb/p/itmf944ees7rprte?pid=MOBF944E5FTGHNCR&lid=LSTMOBF944E5FTGHNCRAH33S3&marketplace=FLIPKART&srno=s_1_2&otracker=search&otracker1=search&fm=SEARCH&iid=3bdbc1fe-fb28-4b87-b9dd-5cfa9bca72f7.MOBF944E5FTGHNCR.SEARCH&ppt=sp&ppn=sp&ssid=dh4th365ow0000001584871616021&qH=0b3f45b266a97d70\"\n",
    "source2 = \"https://www.amazon.in/Apple-iPhone-Xs-Max-64GB/dp/B07J3CJM4N/ref=sr_1_4?dchild=1&keywords=Apple+iPhone+XS+%28Space+Grey%2C+64+GB%29&qid=1584873760&s=electronics&sr=1-4\"\n",
    "source3 = \"https://paytmmall.com/apple-iphone-xs-max-64-gb-space-grey-CMPLXMOBAPPLE-IPHONEDUMM141435DC790-pdp\"\n",
    "\n"
   ]
  },
  {
   "cell_type": "code",
   "execution_count": 22,
   "metadata": {},
   "outputs": [
    {
     "name": "stdout",
     "output_type": "stream",
     "text": [
      "*************************************************************************** \n",
      "\n",
      "                     Starting Program, Please wait ..... \n",
      "\n"
     ]
    }
   ],
   "source": [
    "wait_imp=10\n",
    "CO=webdriver.ChromeOptions()\n",
    "CO.add_experimental_option('useAutomationExtension',False)\n",
    "CO.add_argument('--ignore-certificate-errors')\n",
    "CO.add_argument('--start-maximized')\n",
    "wd = webdriver.Chrome(r'chromedriver.exe',options=CO)\n",
    "print (\"*************************************************************************** \\n\")\n",
    "print(\"                     Starting Program, Please wait ..... \\n\")\n"
   ]
  },
  {
   "cell_type": "code",
   "execution_count": 25,
   "metadata": {},
   "outputs": [
    {
     "name": "stdout",
     "output_type": "stream",
     "text": [
      "Connecting to Flipkart\n",
      " ---> Successfully retrieved the price from Flipkart \n",
      "\n",
      "Connecting to Amazon\n",
      " ---> Successfully retrieved the price from Amazon \n",
      "\n",
      "Connecting to PaytmMall\n",
      " ---> Successfully retrieved the price from Croma\n",
      "\n",
      "#------------------------------------------------------------------------#\n",
      "Price for [Apple iPhone XS (Space Grey, 64 GB)] on all websites, Prices are in INR \n",
      "\n",
      "Price available at Flipkart is: 80,900\n",
      "  Price available at Amazon is: 79,699\n",
      "   Price available at PaytmMall is: 1,05,200\n"
     ]
    }
   ],
   "source": [
    "print (\"Connecting to Flipkart\")\n",
    "wd.get(source1)\n",
    "wd.implicitly_wait(wait_imp)\n",
    "f_price = wd.find_element_by_xpath(\"/html/body/div[1]/div/div[3]/div[1]/div[2]/div[2]/div/div[4]/div[1]/div/div[1]\")\n",
    "pr_name = wd.find_element_by_xpath(\"/html/body/div[1]/div/div[3]/div[1]/div[2]/div[2]/div/div[1]/h1/span\")\n",
    "product = pr_name.text\n",
    "r_price = f_price.text\n",
    "# print (r_price[1:])\n",
    "print (\" ---> Successfully retrieved the price from Flipkart \\n\")\n",
    "time.sleep(2)\n",
    "\n",
    "\n",
    "print(\"Connecting to Amazon\")\n",
    "wd.get(source2)\n",
    "wd.implicitly_wait(wait_imp)\n",
    "# a_price = wd.find_element_by_id(\"priceblock_ourprice\")\n",
    "a_price = wd.find_element_by_xpath(\"/html/body/div[4]/div[2]/div[2]/div[10]/div[12]/div/table/tbody/tr[2]/td[2]/span[1]\")\n",
    "raw_p = a_price.text\n",
    "# print (raw_p[2:8])\n",
    "print (\" ---> Successfully retrieved the price from Amazon \\n\")\n",
    "time.sleep(2)\n",
    "\n",
    "\n",
    "print(\"Connecting to PaytmMall\")\n",
    "wd.get(source3)\n",
    "wd.implicitly_wait(wait_imp)\n",
    "c_price = wd.find_element_by_xpath(\"/html/body/div[1]/div/div[3]/div/div[2]/div/div[1]/div[1]/div/div[2]/div[1]/div[1]/div[1]/div[1]/div[1]/span[2]\")\n",
    "raw_c = c_price.text\n",
    "# print (raw_c[1:7])\n",
    "print (\" ---> Successfully retrieved the price from Croma\\n\")\n",
    "time.sleep(2)\n",
    "\n",
    "# Final display\n",
    "print (\"#------------------------------------------------------------------------#\")\n",
    "print (\"Price for [{}] on all websites, Prices are in INR \\n\".format(product))\n",
    "print(\"Price available at Flipkart is: \"+r_price[1:])\n",
    "print(\"  Price available at Amazon is: \"+raw_p[2:8])\n",
    "print(\"   Price available at PaytmMall is: \"+raw_c)\n",
    "\n"
   ]
  },
  {
   "cell_type": "code",
   "execution_count": null,
   "metadata": {},
   "outputs": [],
   "source": []
  }
 ],
 "metadata": {
  "kernelspec": {
   "display_name": "Python 3",
   "language": "python",
   "name": "python3"
  },
  "language_info": {
   "codemirror_mode": {
    "name": "ipython",
    "version": 3
   },
   "file_extension": ".py",
   "mimetype": "text/x-python",
   "name": "python",
   "nbconvert_exporter": "python",
   "pygments_lexer": "ipython3",
   "version": "3.6.8"
  }
 },
 "nbformat": 4,
 "nbformat_minor": 4
}
